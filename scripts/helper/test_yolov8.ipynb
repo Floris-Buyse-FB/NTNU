{
  "cells": [
    {
      "cell_type": "code",
      "execution_count": 11,
      "metadata": {
        "colab": {
          "base_uri": "https://localhost:8080/"
        },
        "id": "fRol46IX9vn4",
        "outputId": "2bd8ecec-168c-43b5-8bdc-1ea8898685fa"
      },
      "outputs": [],
      "source": [
        "from ultralytics import YOLO, settings\n",
        "import os\n",
        "import shutil\n",
        "import random\n",
        "from IPython.display import display, Image\n",
        "from IPython import display\n",
        "display.clear_output()"
      ]
    },
    {
      "cell_type": "code",
      "execution_count": 23,
      "metadata": {},
      "outputs": [],
      "source": [
        "IMG_PATH_FIXED = '../../images/classification/fixed'\n",
        "IMG_PATH_RANDOM = '../../images/classification/random'\n",
        "MODEL_PATH_OBB = '../../models/l_obb_random_scale_detection_v1.pt'\n",
        "MODEL_PATH_NO_OBB = '../../models/no_obb_best_05_03_24.pt'\n",
        "settings.update({'runs_dir': rf'C:\\Users\\buyse\\Workspace\\NTNU\\models\\runs'})\n",
        "\n",
        "model_obb = YOLO(MODEL_PATH_OBB)\n",
        "model_no_obb = YOLO(MODEL_PATH_NO_OBB)"
      ]
    },
    {
      "cell_type": "code",
      "execution_count": 24,
      "metadata": {},
      "outputs": [],
      "source": [
        "all_images_fixed = os.listdir(IMG_PATH_FIXED)\n",
        "all_images_random = os.listdir(IMG_PATH_RANDOM)\n",
        "\n",
        "random.shuffle(all_images_fixed)\n",
        "random.shuffle(all_images_random)\n",
        "\n",
        "test_images = [os.path.join(IMG_PATH_FIXED, img) for img in all_images_fixed[:10]]\n",
        "test_images2 = [os.path.join(IMG_PATH_RANDOM, img) for img in all_images_random[:50]]\n",
        "\n",
        "combined = test_images + test_images2"
      ]
    },
    {
      "cell_type": "code",
      "execution_count": 14,
      "metadata": {},
      "outputs": [],
      "source": [
        "# results = model_no_obb(combined, save=True, save_txt=True, save_conf=True, conf=0.8) # conf -> only show detections with confidence greater than this value"
      ]
    },
    {
      "cell_type": "markdown",
      "metadata": {},
      "source": [
        "m_obb_random_scale_detectino_v4 -> not so good\n",
        "s_obb_random_scale_detection_v1 -> doesnt detect many scales\n",
        "m_obb_random_scale_detection_v5 -> best so far"
      ]
    },
    {
      "cell_type": "code",
      "execution_count": null,
      "metadata": {},
      "outputs": [],
      "source": [
        "results = model_obb(test_images2, save=True, conf=0.9)"
      ]
    },
    {
      "cell_type": "code",
      "execution_count": 33,
      "metadata": {},
      "outputs": [],
      "source": [
        "undetected = []\n",
        "\n",
        "for result in results:\n",
        "    if len(result.obb.cls) == 0:\n",
        "        undetected.append(result.path)"
      ]
    },
    {
      "cell_type": "code",
      "execution_count": 35,
      "metadata": {},
      "outputs": [],
      "source": [
        "best_model = YOLO('../../models/m_obb_random_scale_detection_v5.pt')"
      ]
    },
    {
      "cell_type": "code",
      "execution_count": null,
      "metadata": {},
      "outputs": [],
      "source": [
        "best_results = best_model(undetected, save=True, conf=0.9)"
      ]
    },
    {
      "cell_type": "code",
      "execution_count": 4,
      "metadata": {},
      "outputs": [
        {
          "name": "stdout",
          "output_type": "stream",
          "text": [
            "loading Roboflow workspace...\n",
            "loading Roboflow project...\n"
          ]
        },
        {
          "name": "stderr",
          "output_type": "stream",
          "text": [
            "Downloading Dataset Version Zip in NTNU_Scale_Detection-9 to yolov8-obb:: 100%|██████████| 6482/6482 [00:01<00:00, 3935.32it/s]"
          ]
        },
        {
          "name": "stdout",
          "output_type": "stream",
          "text": [
            "\n"
          ]
        },
        {
          "name": "stderr",
          "output_type": "stream",
          "text": [
            "\n",
            "Extracting Dataset Version Zip to NTNU_Scale_Detection-9 in yolov8-obb:: 100%|██████████| 359/359 [00:00<00:00, 3518.05it/s]\n"
          ]
        }
      ],
      "source": [
        "# %pip install roboflow\n",
        "from roboflow import Roboflow\n",
        "import shutil\n",
        "import yaml\n",
        "import os\n",
        "\n",
        "rf = Roboflow(api_key=\"icID9O8OxeSkt4pElFgZ\")\n",
        "project = rf.workspace(\"ntnuscaledetection\").project(\"ntnu_scale_detection\")\n",
        "version = project.version(9)\n",
        "dataset = version.download(\"yolov8-obb\")\n",
        "\n",
        "if not os.path.exists('../../data/datasets'):\n",
        "  os.makedirs('../../data/datasets')\n",
        "\n",
        "try:\n",
        "  shutil.move(f'{dataset.location}', '../../data/datasets')\n",
        "except Exception as e:\n",
        "  print(e)\n",
        "\n",
        "data_yaml_path = f'../../data/datasets/{project.name}-{version.version}/data.yaml'\n",
        "\n",
        "with open(data_yaml_path, 'r') as file:\n",
        "    data_yaml = yaml.safe_load(file)\n",
        "\n",
        "data_yaml['path'] = f'{project.name}-{version.version}'\n",
        "\n",
        "with open(data_yaml_path, 'w') as file:\n",
        "    yaml.dump(data_yaml, file, default_flow_style=False)"
      ]
    },
    {
      "cell_type": "code",
      "execution_count": 3,
      "metadata": {},
      "outputs": [],
      "source": []
    }
  ],
  "metadata": {
    "accelerator": "GPU",
    "colab": {
      "gpuType": "T4",
      "provenance": []
    },
    "kernelspec": {
      "display_name": "Python 3",
      "name": "python3"
    },
    "language_info": {
      "codemirror_mode": {
        "name": "ipython",
        "version": 3
      },
      "file_extension": ".py",
      "mimetype": "text/x-python",
      "name": "python",
      "nbconvert_exporter": "python",
      "pygments_lexer": "ipython3",
      "version": "3.11.3"
    }
  },
  "nbformat": 4,
  "nbformat_minor": 0
}
