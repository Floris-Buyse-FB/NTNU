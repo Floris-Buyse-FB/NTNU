{
  "cells": [
    {
      "cell_type": "code",
      "execution_count": 2,
      "metadata": {
        "colab": {
          "base_uri": "https://localhost:8080/"
        },
        "id": "fRol46IX9vn4",
        "outputId": "2bd8ecec-168c-43b5-8bdc-1ea8898685fa"
      },
      "outputs": [],
      "source": [
        "from ultralytics import YOLO, settings\n",
        "import os\n",
        "import shutil\n",
        "import random\n",
        "from IPython.display import display, Image\n",
        "from IPython import display\n",
        "display.clear_output()"
      ]
    },
    {
      "cell_type": "code",
      "execution_count": 3,
      "metadata": {},
      "outputs": [],
      "source": [
        "IMG_PATH_FIXED = '../../images/scale_fixed'\n",
        "IMG_PATH_RANDOM = '../../images/scale_random'\n",
        "MODEL_PATH_OBB = '../../models/yolov8n_obb_100epochs.pt'\n",
        "MODEL_PATH_NO_OBB = '../../models/no_obb_best_05_03_24.pt'\n",
        "settings.update({'runs_dir': rf'C:\\Users\\buyse\\Workspace\\NTNU\\models\\runs'})\n",
        "\n",
        "model_obb = YOLO(MODEL_PATH_OBB)\n",
        "model_no_obb = YOLO(MODEL_PATH_NO_OBB)"
      ]
    },
    {
      "cell_type": "code",
      "execution_count": 4,
      "metadata": {},
      "outputs": [],
      "source": [
        "all_images_fixed = os.listdir(IMG_PATH_FIXED)\n",
        "all_images_random = os.listdir(IMG_PATH_RANDOM)\n",
        "\n",
        "random.shuffle(all_images_fixed)\n",
        "random.shuffle(all_images_random)\n",
        "\n",
        "test_images = [os.path.join(IMG_PATH_FIXED, img) for img in all_images_fixed[:10]]\n",
        "test_images2 = [os.path.join(IMG_PATH_RANDOM, img) for img in all_images_random[:10]]\n",
        "\n",
        "combined = test_images + test_images2"
      ]
    },
    {
      "cell_type": "code",
      "execution_count": null,
      "metadata": {},
      "outputs": [],
      "source": [
        "results = model_no_obb(combined, save=True, save_txt=True, save_conf=True, conf=0.8) # conf -> only show detections with confidence greater than this value"
      ]
    }
  ],
  "metadata": {
    "accelerator": "GPU",
    "colab": {
      "gpuType": "T4",
      "provenance": []
    },
    "kernelspec": {
      "display_name": "Python 3",
      "name": "python3"
    },
    "language_info": {
      "codemirror_mode": {
        "name": "ipython",
        "version": 3
      },
      "file_extension": ".py",
      "mimetype": "text/x-python",
      "name": "python",
      "nbconvert_exporter": "python",
      "pygments_lexer": "ipython3",
      "version": "3.11.3"
    }
  },
  "nbformat": 4,
  "nbformat_minor": 0
}
