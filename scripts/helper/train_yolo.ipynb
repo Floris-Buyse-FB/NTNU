{
 "cells": [
  {
   "cell_type": "code",
   "execution_count": 1,
   "metadata": {},
   "outputs": [],
   "source": [
    "from ultralytics import YOLO\n",
    "import os\n",
    "from IPython.display import display, Image\n",
    "from IPython import display\n",
    "display.clear_output()"
   ]
  },
  {
   "cell_type": "code",
   "execution_count": 2,
   "metadata": {},
   "outputs": [
    {
     "name": "stdout",
     "output_type": "stream",
     "text": [
      "loading Roboflow workspace...\n",
      "loading Roboflow project...\n",
      "Dependency ultralytics==8.0.196 is required but found version=8.1.29, to fix: `pip install ultralytics==8.0.196`\n"
     ]
    },
    {
     "name": "stderr",
     "output_type": "stream",
     "text": [
      "Downloading Dataset Version Zip in NTNU_Plant_detection-2 to yolov8:: 100%|██████████| 2834/2834 [00:01<00:00, 2692.20it/s]"
     ]
    },
    {
     "name": "stdout",
     "output_type": "stream",
     "text": [
      "\n"
     ]
    },
    {
     "name": "stderr",
     "output_type": "stream",
     "text": [
      "\n",
      "Extracting Dataset Version Zip to NTNU_Plant_detection-2 in yolov8:: 100%|██████████| 193/193 [00:00<00:00, 2429.94it/s]"
     ]
    },
    {
     "name": "stdout",
     "output_type": "stream",
     "text": [
      "Destination path '../../data/datasets\\NTNU_Plant_detection-2' already exists\n"
     ]
    },
    {
     "name": "stderr",
     "output_type": "stream",
     "text": [
      "\n"
     ]
    }
   ],
   "source": [
    "from roboflow import Roboflow\n",
    "import shutil\n",
    "import yaml\n",
    "\n",
    "rf = Roboflow(api_key=\"x5pZ44ydkd9As40Mglzv\")\n",
    "project = rf.workspace(\"ntnuscaledetection\").project(\"ntnu_plant_detection\")\n",
    "version = project.version(2)\n",
    "dataset = version.download(\"yolov8\")\n",
    "\n",
    "if not os.path.exists('../../data/datasets'):\n",
    "  os.makedirs('../../data/datasets')\n",
    "\n",
    "try:\n",
    "  shutil.move(f'{dataset.location}', '../../data/datasets')\n",
    "except Exception as e:\n",
    "  print(e)\n",
    "\n",
    "data_yaml_path = f'../../data/datasets/{project.name}-{version.version}/data.yaml'\n",
    "\n",
    "with open(data_yaml_path, 'r') as file:\n",
    "    data_yaml = yaml.safe_load(file)\n",
    "\n",
    "data_yaml['path'] = f'{project.name}-{version.version}'\n",
    "data_yaml['train'] = f'train/images'\n",
    "data_yaml['val'] = f'valid/images'\n",
    "data_yaml['test'] = f'test/images'\n",
    "\n",
    "with open(data_yaml_path, 'w') as file:\n",
    "    yaml.dump(data_yaml, file, default_flow_style=False)"
   ]
  },
  {
   "cell_type": "code",
   "execution_count": 3,
   "metadata": {},
   "outputs": [
    {
     "name": "stdout",
     "output_type": "stream",
     "text": [
      "Setup complete. Using torch 2.2.1+cu121 (NVIDIA GeForce RTX 3060 Laptop GPU)\n"
     ]
    }
   ],
   "source": [
    "import torch\n",
    "\n",
    "print(f\"Setup complete. Using torch {torch.__version__} ({torch.cuda.get_device_properties(0).name if torch.cuda.is_available() else 'CPU'})\")"
   ]
  },
  {
   "cell_type": "code",
   "execution_count": 4,
   "metadata": {},
   "outputs": [
    {
     "name": "stdout",
     "output_type": "stream",
     "text": [
      "\u001b[2K\n",
      "\u001b[2K\n",
      "Ultralytics YOLOv8.1.29 🚀 Python-3.11.3 torch-2.2.1+cu121 CUDA:0 (NVIDIA GeForce RTX 3060 Laptop GPU, 6144MiB)\n",
      "Setup complete ✅ (16 CPUs, 15.6 GB RAM, 757.2/930.5 GB disk)\n",
      "\n",
      "OS                  Windows-10-10.0.22621-SP0\n",
      "Environment         Windows\n",
      "Python              3.11.3\n",
      "Install             git\n",
      "RAM                 15.63 GB\n",
      "CPU                 12th Gen Intel Core(TM) i7-12650H\n",
      "CUDA                12.1\n",
      "\n",
      "matplotlib          ✅ 3.8.3>=3.3.0\n",
      "opencv-python       ✅ 4.9.0.80>=4.6.0\n",
      "pillow              ✅ 10.2.0>=7.1.2\n",
      "pyyaml              ✅ 6.0.1>=5.3.1\n",
      "requests            ✅ 2.31.0>=2.23.0\n",
      "scipy               ✅ 1.12.0>=1.4.1\n",
      "torch               ✅ 2.2.1+cu121>=1.8.0\n",
      "torchvision         ✅ 0.17.1+cu121>=0.9.0\n",
      "tqdm                ✅ 4.66.2>=4.64.0\n",
      "psutil              ✅ 5.9.8\n",
      "py-cpuinfo          ✅ 9.0.0\n",
      "thop                ✅ 0.1.1-2209072238>=0.1.1\n",
      "pandas              ✅ 2.2.1>=1.1.4\n",
      "seaborn             ✅ 0.13.2>=0.11.0\n"
     ]
    }
   ],
   "source": [
    "!yolo checks"
   ]
  },
  {
   "cell_type": "code",
   "execution_count": null,
   "metadata": {},
   "outputs": [],
   "source": [
    "!yolo detect train data={data_yaml_path} model=yolov8m.pt epochs=50"
   ]
  }
 ],
 "metadata": {
  "kernelspec": {
   "display_name": ".venv",
   "language": "python",
   "name": "python3"
  },
  "language_info": {
   "codemirror_mode": {
    "name": "ipython",
    "version": 3
   },
   "file_extension": ".py",
   "mimetype": "text/x-python",
   "name": "python",
   "nbconvert_exporter": "python",
   "pygments_lexer": "ipython3",
   "version": "3.11.3"
  }
 },
 "nbformat": 4,
 "nbformat_minor": 2
}
