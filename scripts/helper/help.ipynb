{
 "cells": [
  {
   "cell_type": "code",
   "execution_count": 1,
   "metadata": {},
   "outputs": [],
   "source": [
    "from ultralytics import YOLO, settings\n",
    "import os\n",
    "import shutil\n",
    "from IPython.display import display, Image\n",
    "from IPython import display\n",
    "import cv2\n",
    "import matplotlib.pyplot as plt\n",
    "import numpy as np\n",
    "from packages import log\n",
    "display.clear_output()"
   ]
  },
  {
   "cell_type": "code",
   "execution_count": 2,
   "metadata": {},
   "outputs": [],
   "source": [
    "image = '../../images/test/2234228416.jpg'"
   ]
  },
  {
   "cell_type": "code",
   "execution_count": 3,
   "metadata": {},
   "outputs": [
    {
     "name": "stdout",
     "output_type": "stream",
     "text": [
      "\n",
      "image 1/1 c:\\Users\\buyse\\Workspace\\NTNU\\scripts\\helper\\..\\..\\images\\scale_fixed\\2234228416.jpg: 640x416 187.5ms\n",
      "Speed: 2.0ms preprocess, 187.5ms inference, 2.0ms postprocess per image at shape (1, 3, 640, 416)\n",
      "Results saved to \u001b[1mC:\\Users\\buyse\\Workspace\\NTNU\\models\\runs\\obb\\predict\u001b[0m\n"
     ]
    }
   ],
   "source": [
    "MODEL_PATH_OBB = '../..//models/BEST_m_obb.pt'\n",
    "model_obb = YOLO(MODEL_PATH_OBB)\n",
    "results = model_obb(image, save=True, conf=0.8)"
   ]
  },
  {
   "cell_type": "code",
   "execution_count": 3,
   "metadata": {},
   "outputs": [
    {
     "data": {
      "text/plain": [
       "['2234228274.jpg', '2461260218.jpg', '2853562301.jpg', '3990750310.jpg']"
      ]
     },
     "execution_count": 3,
     "metadata": {},
     "output_type": "execute_result"
    }
   ],
   "source": [
    "import os\n",
    "\n",
    "SAVE_DIR_RANDOM = '../../images/cropped_scales/random'\n",
    "\n",
    "image_files = [f for f in os.listdir(SAVE_DIR_RANDOM) if f.endswith('.jpg') and '_scale_only' not in f and '_grid' not in f]\n",
    "image_files = [f for f in image_files if not os.path.exists(os.path.join(SAVE_DIR_RANDOM, f.replace('.jpg', '_scale_only.jpg')))]\n",
    "image_files"
   ]
  }
 ],
 "metadata": {
  "kernelspec": {
   "display_name": ".venv",
   "language": "python",
   "name": "python3"
  },
  "language_info": {
   "codemirror_mode": {
    "name": "ipython",
    "version": 3
   },
   "file_extension": ".py",
   "mimetype": "text/x-python",
   "name": "python",
   "nbconvert_exporter": "python",
   "pygments_lexer": "ipython3",
   "version": "3.11.3"
  }
 },
 "nbformat": 4,
 "nbformat_minor": 2
}
