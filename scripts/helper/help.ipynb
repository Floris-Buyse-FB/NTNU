{
 "cells": [
  {
   "cell_type": "code",
   "execution_count": 1,
   "metadata": {},
   "outputs": [],
   "source": [
    "from ultralytics import YOLO, settings\n",
    "import os\n",
    "import shutil\n",
    "from IPython.display import display, Image\n",
    "from IPython import display\n",
    "import cv2\n",
    "import matplotlib.pyplot as plt\n",
    "import numpy as np\n",
    "from packages import log\n",
    "display.clear_output()"
   ]
  },
  {
   "cell_type": "code",
   "execution_count": 2,
   "metadata": {},
   "outputs": [],
   "source": [
    "image = '../../images/test/2234228416.jpg'"
   ]
  },
  {
   "cell_type": "code",
   "execution_count": 3,
   "metadata": {},
   "outputs": [
    {
     "name": "stdout",
     "output_type": "stream",
     "text": [
      "\n",
      "image 1/1 c:\\Users\\buyse\\Workspace\\NTNU\\scripts\\helper\\..\\..\\images\\scale_fixed\\2234228416.jpg: 640x416 187.5ms\n",
      "Speed: 2.0ms preprocess, 187.5ms inference, 2.0ms postprocess per image at shape (1, 3, 640, 416)\n",
      "Results saved to \u001b[1mC:\\Users\\buyse\\Workspace\\NTNU\\models\\runs\\obb\\predict\u001b[0m\n"
     ]
    }
   ],
   "source": [
    "MODEL_PATH_OBB = '../..//models/BEST_m_obb.pt'\n",
    "model_obb = YOLO(MODEL_PATH_OBB)\n",
    "results = model_obb(image, save=True, conf=0.8)"
   ]
  },
  {
   "cell_type": "code",
   "execution_count": 3,
   "metadata": {},
   "outputs": [
    {
     "data": {
      "text/plain": [
       "['2234228274.jpg', '2461260218.jpg', '2853562301.jpg', '3990750310.jpg']"
      ]
     },
     "execution_count": 3,
     "metadata": {},
     "output_type": "execute_result"
    }
   ],
   "source": [
    "import os\n",
    "\n",
    "SAVE_DIR_RANDOM = '../../images/cropped_scales/random'\n",
    "\n",
    "image_files = [f for f in os.listdir(SAVE_DIR_RANDOM) if f.endswith('.jpg') and '_scale_only' not in f and '_grid' not in f]\n",
    "image_files = [f for f in image_files if not os.path.exists(os.path.join(SAVE_DIR_RANDOM, f.replace('.jpg', '_scale_only.jpg')))]\n",
    "image_files"
   ]
  },
  {
   "cell_type": "code",
   "execution_count": 3,
   "metadata": {},
   "outputs": [],
   "source": [
    "import os\n",
    "\n",
    "path = '../../models/runs/detect\\\\predict\\\\crops\\\\scale_fixed'.replace('\\\\', '/')\n",
    "if not os.path.exists(path):\n",
    "    print('Does not exist')"
   ]
  },
  {
   "cell_type": "code",
   "execution_count": 2,
   "metadata": {},
   "outputs": [
    {
     "data": {
      "text/plain": [
       "'C:\\\\Users\\\\buyse\\\\Workspace\\\\NTNU\\\\models\\\\runs\\\\detect/predict/crops/scale_fixed'"
      ]
     },
     "execution_count": 2,
     "metadata": {},
     "output_type": "execute_result"
    }
   ],
   "source": [
    "from ultralytics import YOLO, settings\n",
    "import os\n",
    "RUNS_DIR = settings['runs_dir']\n",
    "NO_OBB_PREDICT_PATH = os.path.join(RUNS_DIR, 'detect/predict/crops/scale_fixed')\n",
    "NO_OBB_PREDICT_PATH"
   ]
  },
  {
   "cell_type": "code",
   "execution_count": 23,
   "metadata": {},
   "outputs": [],
   "source": [
    "from ultralytics import YOLO, settings\n",
    "import os\n",
    "import shutil\n",
    "import cv2\n",
    "import matplotlib.pyplot as plt\n",
    "\n",
    "# CONSTANTS\n",
    "IMG_PATH_FIXED = '../../images/classification/fixed'\n",
    "MODEL_PATH_NO_OBB = '../../models/BEST_no_obb.pt'\n",
    "SAVE_DIR_FIXED = '../../images/cropped_scales/fixed'\n",
    "\n",
    "settings.update({'runs_dir': '../../models/runs'})\n",
    "RUNS_DIR = settings['runs_dir']\n",
    "\n",
    "NO_OBB_PREDICT_PATH = os.path.join(RUNS_DIR, 'detect/predict/crops/scale_fixed')\n",
    "\n",
    "try:\n",
    "    if not os.path.exists(SAVE_DIR_FIXED):\n",
    "        os.makedirs(SAVE_DIR_FIXED)\n",
    "except OSError as e:\n",
    "    print('Something went wrong, check the log file for more information')\n",
    "\n",
    "def crop_scale_fixed(images: list):\n",
    "    model_no_obb = YOLO(MODEL_PATH_NO_OBB)\n",
    "    # remove old runs\n",
    "    shutil.rmtree(os.path.join(RUNS_DIR, 'detect'), ignore_errors=True)\n",
    "    # predict images\n",
    "    results_fixed = model_no_obb(images, conf=0.8, save_crop=True)\n",
    "\n",
    "    # move images to save dir\n",
    "    # predictions = os.listdir(NO_OBB_PREDICT_PATH)\n",
    "    # for pred in predictions:\n",
    "    #     if pred.endswith('.jpg'):\n",
    "    #         shutil.move(os.path.join(NO_OBB_PREDICT_PATH, pred), SAVE_DIR_FIXED)\n",
    "\n",
    "    return results_fixed\n",
    "\n",
    "\n",
    "def load_image(image_path, fig_size=(50, 50), grid=False, x_ticks=30, y_ticks=10, x_rotation=0, y_rotation=0, save=False, save_path=None):\n",
    "    # Load the image\n",
    "    image = cv2.imread(image_path)\n",
    "\n",
    "    # Convert the image from BGR to RGB (matplotlib uses RGB)\n",
    "    image_rgb = cv2.cvtColor(image, cv2.COLOR_BGR2RGB)\n",
    "\n",
    "    # Create a figure with a specific size\n",
    "    plt.figure(figsize=fig_size)\n",
    "\n",
    "    # Show the image\n",
    "    plt.imshow(image_rgb)\n",
    "\n",
    "    if grid:\n",
    "        # Add grid lines to the image for easier measurement\n",
    "        plt.grid(color='r', linestyle='-', linewidth=0.5)\n",
    "\n",
    "        # Optionally, you can customize the ticks to match your image's scale\n",
    "        plt.xticks(range(0, image_rgb.shape[1], x_ticks), rotation=x_rotation)  # Adjust the spacing as needed\n",
    "        plt.yticks(range(0, image_rgb.shape[0], y_ticks), rotation=y_rotation)  # Adjust the spacing as needed\n",
    "\n",
    "    if save:\n",
    "        if save_path is None:\n",
    "            plt.savefig(image_path.split('/')[-1], bbox_inches='tight', transparent=True)\n",
    "            plt.close()\n",
    "        else:\n",
    "            plt.savefig(save_path, bbox_inches='tight', transparent=True)\n",
    "            plt.close()"
   ]
  },
  {
   "cell_type": "code",
   "execution_count": 24,
   "metadata": {},
   "outputs": [],
   "source": [
    "all_images = os.listdir(IMG_PATH_FIXED)\n",
    "images = [os.path.join(IMG_PATH_FIXED, img).replace('\\\\', '/') for img in all_images]\n"
   ]
  },
  {
   "cell_type": "code",
   "execution_count": 25,
   "metadata": {},
   "outputs": [
    {
     "data": {
      "text/plain": [
       "['../../images/classification/fixed/1701330402.jpg',\n",
       " '../../images/classification/fixed/1701302304.jpg',\n",
       " '../../images/classification/fixed/1701227243.jpg',\n",
       " '../../images/classification/fixed/1701346054.jpg',\n",
       " '../../images/classification/fixed/1701771743.jpg']"
      ]
     },
     "execution_count": 25,
     "metadata": {},
     "output_type": "execute_result"
    }
   ],
   "source": [
    "images"
   ]
  },
  {
   "cell_type": "code",
   "execution_count": 26,
   "metadata": {},
   "outputs": [
    {
     "name": "stdout",
     "output_type": "stream",
     "text": [
      "\n",
      "0: 640x640 1 scale_fixed, 45.0ms\n",
      "1: 640x640 1 scale_fixed, 45.0ms\n",
      "2: 640x640 1 scale_fixed, 45.0ms\n",
      "3: 640x640 1 scale_fixed, 45.0ms\n",
      "4: 640x640 1 scale_fixed, 45.0ms\n",
      "Speed: 3.4ms preprocess, 45.0ms inference, 1.0ms postprocess per image at shape (1, 3, 640, 640)\n",
      "Results saved to \u001b[1mmodels/runs/detect/predict\u001b[0m\n"
     ]
    }
   ],
   "source": [
    "results = crop_scale_fixed(images)"
   ]
  },
  {
   "cell_type": "code",
   "execution_count": 16,
   "metadata": {},
   "outputs": [
    {
     "data": {
      "text/plain": [
       "'1701330402_scale_only.jpg'"
      ]
     },
     "execution_count": 16,
     "metadata": {},
     "output_type": "execute_result"
    }
   ],
   "source": [
    "results[0].path.split('/')[-1].replace('.jpg', '_scale_only.jpg')"
   ]
  },
  {
   "cell_type": "code",
   "execution_count": null,
   "metadata": {},
   "outputs": [],
   "source": [
    "# rename crops\n",
    "try:\n",
    "    for idx, result in enumerate(results):\n",
    "        if idx == 0:\n",
    "            os.rename(os.path.join(SAVE_DIR_FIXED, 'labels.jpg'), os.path.join(SAVE_DIR_FIXED, result.path.split(\"/\")[-1].replace('.jpg', '') + '_scale_only.jpg'))\n",
    "        else:\n",
    "            os.rename(os.path.join(SAVE_DIR_FIXED, f'labels{idx+1}.jpg'), os.path.join(SAVE_DIR_FIXED, result.path.split(\"/\")[-1].replace('.jpg', '') + '_scale_only.jpg'))\n",
    "except Exception as e:\n",
    "    log(f'Error renaming crops: {e}')\n",
    "    print(f'Error renaming crops: {e}')\n",
    "    print('Something went wrong, check the log file for more information')"
   ]
  },
  {
   "cell_type": "code",
   "execution_count": null,
   "metadata": {},
   "outputs": [],
   "source": [
    "\n",
    "\n",
    "# adds grid to images\n",
    "try:\n",
    "    for idx, result in enumerate(results):\n",
    "        load_image(result.path, grid=True, x_ticks=120, y_ticks=10, x_rotation=90, y_rotation=0, save=True, save_path=os.path.join(SAVE_DIR_FIXED, result.path.split('/')[-1].replace('.jpg', '_grid.jpg')))\n",
    "except Exception as e:\n",
    "    log(f'Error adding grid to images: {e}')\n",
    "    print('Something went wrong, check the log file for more information')\n",
    "\n",
    "# Move original images to save dir\n",
    "try:\n",
    "    for img in images:\n",
    "        shutil.move(img, SAVE_DIR_FIXED)\n",
    "except Exception as e:\n",
    "    log(f'Error moving original images: {e}')\n",
    "    print('Something went wrong, check the log file for more information')\n",
    "\n",
    "try:\n",
    "    for scale in os.listdir(SAVE_DIR_FIXED):\n",
    "        if scale.endswith('_scale_only.jpg'):\n",
    "            load_image(os.path.join(SAVE_DIR_FIXED, scale), grid=True, x_ticks=120, y_ticks=10, x_rotation=90, y_rotation=0, save=True, save_path=os.path.join(SAVE_DIR_FIXED, scale.replace('_scale_only.jpg', '_scale_only_grid.jpg')))\n",
    "except Exception as e:\n",
    "    log(f'Error adding grid to cropped images: {e}')\n",
    "    print('Something went wrong, check the log file for more information')\n",
    "\n",
    "# remove old directories\n",
    "try:\n",
    "    shutil.rmtree(IMG_PATH_FIXED)\n",
    "except Exception as e:\n",
    "    log(f'Error removing old images: {e}')\n",
    "    print('Something went wrong, check the log file for more information')"
   ]
  }
 ],
 "metadata": {
  "kernelspec": {
   "display_name": ".venv",
   "language": "python",
   "name": "python3"
  },
  "language_info": {
   "codemirror_mode": {
    "name": "ipython",
    "version": 3
   },
   "file_extension": ".py",
   "mimetype": "text/x-python",
   "name": "python",
   "nbconvert_exporter": "python",
   "pygments_lexer": "ipython3",
   "version": "3.11.3"
  }
 },
 "nbformat": 4,
 "nbformat_minor": 2
}
