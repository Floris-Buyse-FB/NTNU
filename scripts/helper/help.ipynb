{
 "cells": [
  {
   "cell_type": "code",
   "execution_count": 3,
   "metadata": {},
   "outputs": [],
   "source": [
    "import pandas as pd\n",
    "import shutil\n",
    "import os"
   ]
  },
  {
   "cell_type": "code",
   "execution_count": 20,
   "metadata": {},
   "outputs": [],
   "source": [
    "IMG_DIR_FIXED = '../../images/classification/fixed'\n",
    "IMG_DIR_RANDOM = '../../images/classification/random'\n",
    "\n",
    "UPLOAD_DIR = '../../images/upload'\n",
    "\n",
    "os.makedirs(UPLOAD_DIR, exist_ok=True)"
   ]
  },
  {
   "cell_type": "code",
   "execution_count": 18,
   "metadata": {},
   "outputs": [],
   "source": [
    "fixed_images = os.listdir(IMG_DIR_FIXED)\n",
    "random_images = os.listdir(IMG_DIR_RANDOM)\n",
    "\n",
    "fixed_images = [f for f in fixed_images if not f.endswith('_grid.jpg') and not f.endswith('_only.jpg')]\n",
    "random_images = [f for f in random_images if not f.endswith('_grid.jpg') and not f.endswith('_only.jpg')]"
   ]
  },
  {
   "cell_type": "code",
   "execution_count": 21,
   "metadata": {},
   "outputs": [],
   "source": [
    "# copy fixed and random images to upload directory\n",
    "for img in fixed_images:\n",
    "    shutil.copy2(os.path.join(IMG_DIR_FIXED, img), os.path.join(UPLOAD_DIR, img))\n",
    "for img in random_images:\n",
    "    shutil.copy2(os.path.join(IMG_DIR_RANDOM, img), os.path.join(UPLOAD_DIR, img))"
   ]
  }
 ],
 "metadata": {
  "kernelspec": {
   "display_name": ".venv",
   "language": "python",
   "name": "python3"
  },
  "language_info": {
   "codemirror_mode": {
    "name": "ipython",
    "version": 3
   },
   "file_extension": ".py",
   "mimetype": "text/x-python",
   "name": "python",
   "nbconvert_exporter": "python",
   "pygments_lexer": "ipython3",
   "version": "3.11.3"
  }
 },
 "nbformat": 4,
 "nbformat_minor": 2
}
