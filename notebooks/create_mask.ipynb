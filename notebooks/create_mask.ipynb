{
 "cells": [
  {
   "cell_type": "code",
   "execution_count": 1,
   "metadata": {},
   "outputs": [],
   "source": [
    "import os\n",
    "import cv2\n",
    "import shutil\n",
    "import numpy as np\n",
    "from PIL import Image\n",
    "from sklearn.cluster import KMeans\n",
    "from skimage.segmentation import clear_border\n",
    "from skimage.morphology import binary_closing, disk\n",
    "from scipy.ndimage import binary_dilation, binary_fill_holes\n",
    "\n",
    "images = '../images/gbif_images'\n",
    "save_dir = \"../data/to_edit\"\n",
    "image_save_dir = \"../data/dataset/images\"\n",
    "label_save_dir = \"../data/dataset/labels\"\n",
    "\n",
    "os.makedirs(save_dir, exist_ok=True)\n",
    "os.makedirs(image_save_dir, exist_ok=True)\n",
    "os.makedirs(label_save_dir, exist_ok=True)\n",
    "\n",
    "KERNEL_SIZE = (10, 10) # for morphological closing\n",
    "MIN_AREA = 150 # for removing objects smaller than this area\n",
    "CLEAR_BORDER = True # clear border objects | IMPORTANT: set to False if you have objects touching the border"
   ]
  },
  {
   "cell_type": "markdown",
   "metadata": {},
   "source": [
    "Create masks to edit and move images to dataset folder"
   ]
  },
  {
   "cell_type": "code",
   "execution_count": 4,
   "metadata": {},
   "outputs": [],
   "source": [
    "for image in os.listdir(images):\n",
    "    # Load the image in rgb\n",
    "    orig = cv2.imread(os.path.join(images, image))\n",
    "\n",
    "    # convert to LAB color space\n",
    "    lab = cv2.cvtColor(orig, cv2.COLOR_BGR2LAB)\n",
    "\n",
    "    # apply CLAHE to the L-channel (lightness channel) -> removes shadows (approx.)\n",
    "    l, a, b = cv2.split(lab)\n",
    "    clahe = cv2.createCLAHE(clipLimit=3.0, tileGridSize=(8, 8))\n",
    "    cl = clahe.apply(l)\n",
    "\n",
    "    # merge the CLAHE enhanced L-channel with the original A and B channel -> convert back to BGR\n",
    "    limg = cv2.merge((cl, a, b))\n",
    "    limg_bgr = cv2.cvtColor(limg, cv2.COLOR_LAB2BGR)\n",
    "\n",
    "    # apply heatmap with cool\n",
    "    heatmap = cv2.applyColorMap(limg_bgr, cv2.COLORMAP_COOL)\n",
    "\n",
    "    # Convert the image to grayscale\n",
    "    heatmap_gray = cv2.cvtColor(heatmap, cv2.COLOR_BGR2GRAY)\n",
    "\n",
    "    # Apply Otsu's thresholding to segment the image\n",
    "    _, thresh = cv2.threshold(heatmap_gray, 0, 255, cv2.THRESH_BINARY_INV + cv2.THRESH_OTSU)\n",
    "\n",
    "    # Apply median blur to remove noise\n",
    "    # thresh = cv2.medianBlur(thresh, 21)\n",
    "\n",
    "    ## The code below is used to apply morphological closing to the image\n",
    "    # Define the structuring element (kernel)\n",
    "    # kernel = np.ones(KERNEL_SIZE, np.uint8)\n",
    "\n",
    "    # # Apply morphological closing\n",
    "    # closing_image = cv2.morphologyEx(thresh, cv2.MORPH_CLOSE, kernel)\n",
    "\n",
    "    # Convert the masks to images and save\n",
    "    Image.fromarray(thresh).save(os.path.join(save_dir, os.path.basename(image).replace('.jpg', '_mask.jpg')), \"JPEG\")\n",
    "    \n",
    "    # copy the original image to the image_save_dir\n",
    "    shutil.copy(os.path.join(images, image), os.path.join(image_save_dir, os.path.basename(image)))"
   ]
  },
  {
   "cell_type": "markdown",
   "metadata": {},
   "source": [
    "Now manually edit using photo editing tools (remove the non masked white parts and connect the parts of the plant where the tape was)"
   ]
  },
  {
   "cell_type": "markdown",
   "metadata": {},
   "source": [
    "Generate the segmentation points on the edited foreground picture"
   ]
  },
  {
   "cell_type": "code",
   "execution_count": 22,
   "metadata": {},
   "outputs": [],
   "source": [
    "os.makedirs('../data/review', exist_ok=True)\n",
    "\n",
    "for idx, mask in enumerate(os.listdir(save_dir)):\n",
    "\n",
    "    # Load the mask image in grayscale mode\n",
    "    image = Image.open(os.path.join(save_dir, mask)).convert(\"L\")\n",
    "    image_width, image_height = image.size\n",
    "    image_array = np.array(image)\n",
    "    \n",
    "    # Convert the image to a binary mask\n",
    "    image_array[image_array > 100] = 255\n",
    "    image_array[image_array <= 100] = 0\n",
    "    image_array_uint8 = np.uint8(image_array)\n",
    "\n",
    "    # Clear the border of the mask\n",
    "    if CLEAR_BORDER:\n",
    "        image_array_uint8 = clear_border(image_array_uint8)\n",
    "\n",
    "    # Apply binary dilation to the mask\n",
    "    selem = disk(1)\n",
    "    image_array_bool = binary_dilation(image_array_uint8, selem)\n",
    "\n",
    "    # Fill the holes in the mask\n",
    "    image_array_bool = binary_fill_holes(image_array_bool)\n",
    "\n",
    "    # Apply morphological closing to the mask to smooth the edges\n",
    "    selem = disk(5)\n",
    "    image_array_bool = binary_closing(image_array_bool, selem)    \n",
    "\n",
    "    # Convert the mask back to uint8\n",
    "    image_array_uint8 = np.uint8(image_array_bool)\n",
    "    \n",
    "    # Find the contours in the binary mask and only keep the largest ones\n",
    "    contours, _ = cv2.findContours(image_array_uint8, cv2.RETR_EXTERNAL, cv2.CHAIN_APPROX_SIMPLE)\n",
    "    contours = sorted(contours, key=cv2.contourArea, reverse=True)\n",
    "    contours = [contour for contour in contours if cv2.contourArea(contour) > MIN_AREA]\n",
    "    \n",
    "    # because the contours draw so many points, we approximate them\n",
    "    approx_contours = [cv2.approxPolyDP(contour, 0.0002 * cv2.arcLength(contour, True), True) for contour in contours]\n",
    "\n",
    "    # for testing purposes\n",
    "    image_bgr = cv2.imread(os.path.join(image_save_dir, mask.replace('_mask.jpg', '.jpg')))\n",
    "    image_rgb = cv2.cvtColor(image_bgr, cv2.COLOR_RGB2BGR)\n",
    "    cv2.drawContours(image_rgb, approx_contours, -1, (255, 0, 0), 4)\n",
    "    contour_image = Image.fromarray(image_rgb)\n",
    "    contour_image.save(f'../data/review/{mask}')\n",
    "    \n",
    "    with open(os.path.join(label_save_dir, mask.replace('_mask.jpg', '.txt')), \"w\") as f:\n",
    "        for contour in approx_contours:\n",
    "            normalized_contour_points = contour[:, 0, :] / [image_width, image_height]\n",
    "            normalized_contour_xyxyxy_format = normalized_contour_points.flatten().tolist()\n",
    "            f.write('0 ')\n",
    "            f.write(\" \".join(map(str, normalized_contour_xyxyxy_format)))\n",
    "            f.write('\\n')"
   ]
  }
 ],
 "metadata": {
  "kernelspec": {
   "display_name": ".venv",
   "language": "python",
   "name": "python3"
  },
  "language_info": {
   "codemirror_mode": {
    "name": "ipython",
    "version": 3
   },
   "file_extension": ".py",
   "mimetype": "text/x-python",
   "name": "python",
   "nbconvert_exporter": "python",
   "pygments_lexer": "ipython3",
   "version": "3.12.3"
  }
 },
 "nbformat": 4,
 "nbformat_minor": 2
}
