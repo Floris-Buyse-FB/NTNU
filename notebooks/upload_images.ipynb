{
 "cells": [
  {
   "cell_type": "code",
   "execution_count": null,
   "metadata": {},
   "outputs": [],
   "source": [
    "import pandas as pd\n",
    "import shutil\n",
    "import os\n",
    "\n",
    "IMG_DIR_FIXED = '../images/cropped_scales/fixed'\n",
    "IMG_DIR_RANDOM = '../images/cropped_scales/random'\n",
    "\n",
    "UPLOAD_DIR = '../images/upload'\n",
    "\n",
    "os.makedirs(UPLOAD_DIR, exist_ok=True)\n",
    "\n",
    "def get_images(path):\n",
    "    return [f for f in os.listdir(path) if not f.endswith('_grid.jpg') and not f.endswith('_only.jpg')]\n",
    "\n",
    "def main():\n",
    "    fixed_images = get_images(IMG_DIR_FIXED)\n",
    "    random_images = get_images(IMG_DIR_RANDOM)\n",
    "\n",
    "    for img in fixed_images:\n",
    "        shutil.copy2(os.path.join(IMG_DIR_FIXED, img), os.path.join(UPLOAD_DIR, img))\n",
    "\n",
    "    for img in random_images:\n",
    "        shutil.copy2(os.path.join(IMG_DIR_RANDOM, img), os.path.join(UPLOAD_DIR, img))"
   ]
  },
  {
   "cell_type": "code",
   "execution_count": null,
   "metadata": {},
   "outputs": [],
   "source": [
    "main()"
   ]
  }
 ],
 "metadata": {
  "language_info": {
   "name": "python"
  }
 },
 "nbformat": 4,
 "nbformat_minor": 2
}
