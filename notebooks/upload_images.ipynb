{
 "cells": [
  {
   "cell_type": "code",
   "execution_count": 1,
   "metadata": {},
   "outputs": [],
   "source": [
    "import pandas as pd\n",
    "import shutil\n",
    "import os\n",
    "\n",
    "IMG_DIR_FIXED = '../images/cropped_scales/fixed'\n",
    "IMG_DIR_RANDOM = '../images/cropped_scales/random'\n",
    "\n",
    "UPLOAD_DIR = '../images/upload'\n",
    "\n",
    "os.makedirs(UPLOAD_DIR, exist_ok=True)\n",
    "\n",
    "def get_images(path):\n",
    "    return [f for f in os.listdir(path) if not f.endswith('_grid.jpg') and not f.endswith('_only.jpg')]\n",
    "\n",
    "def main():\n",
    "    fixed_images = get_images(IMG_DIR_FIXED)\n",
    "    random_images = get_images(IMG_DIR_RANDOM)\n",
    "\n",
    "    for img in fixed_images[20:-3]:\n",
    "        shutil.copy2(os.path.join(IMG_DIR_FIXED, img), os.path.join(UPLOAD_DIR, img))\n",
    "\n",
    "    for img in random_images[20:-3]:\n",
    "        shutil.copy2(os.path.join(IMG_DIR_RANDOM, img), os.path.join(UPLOAD_DIR, img))"
   ]
  },
  {
   "cell_type": "code",
   "execution_count": 2,
   "metadata": {},
   "outputs": [],
   "source": [
    "main()"
   ]
  }
 ],
 "metadata": {
  "kernelspec": {
   "display_name": ".venv",
   "language": "python",
   "name": "python3"
  },
  "language_info": {
   "codemirror_mode": {
    "name": "ipython",
    "version": 3
   },
   "file_extension": ".py",
   "mimetype": "text/x-python",
   "name": "python",
   "nbconvert_exporter": "python",
   "pygments_lexer": "ipython3",
   "version": "3.11.3"
  }
 },
 "nbformat": 4,
 "nbformat_minor": 2
}
