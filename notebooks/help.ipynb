{
 "cells": [
  {
   "cell_type": "code",
   "execution_count": 1,
   "metadata": {},
   "outputs": [
    {
     "name": "stdout",
     "output_type": "stream",
     "text": [
      "True\n",
      "1\n",
      "NVIDIA GeForce RTX 3060 Laptop GPU\n"
     ]
    }
   ],
   "source": [
    "import torch\n",
    "\n",
    "print(torch.cuda.is_available())\n",
    "print(torch.cuda.device_count())\n",
    "print(torch.cuda.get_device_name(0))"
   ]
  },
  {
   "cell_type": "markdown",
   "metadata": {},
   "source": [
    "### Test model"
   ]
  },
  {
   "cell_type": "code",
   "execution_count": 26,
   "metadata": {},
   "outputs": [],
   "source": [
    "from ultralytics import YOLO, utils, settings, checks\n",
    "\n",
    "model = YOLO('../models/plant_segmentation_v20_best.pt')"
   ]
  },
  {
   "cell_type": "code",
   "execution_count": null,
   "metadata": {},
   "outputs": [],
   "source": [
    "from ultralytics import YOLO\n",
    "import os\n",
    "\n",
    "images = [os.path.join('../images/gbif_images', image) for image in os.listdir('../images/gbif_images')]\n",
    "\n",
    "version = 20\n",
    "confidence=0.4\n",
    "_type = 'best_finetuned'\n",
    "\n",
    "for batch in range(0, len(images), 10):\n",
    "    model = YOLO(f'../models/plant_segmentation_v{version}_{_type}.pt', task='segment')\n",
    "    res = model.segment(images[batch:batch+10], save=True, iou=0.4, conf=confidence, verbose=False)"
   ]
  },
  {
   "cell_type": "code",
   "execution_count": 8,
   "metadata": {},
   "outputs": [],
   "source": [
    "import os\n",
    "import shutil\n",
    "\n",
    "path = '../models/runs/segment'\n",
    "conf_str = str(confidence).replace('.', '_')\n",
    "save_path = f'/home/floris/Projects/NTNU/images/segment_eval_v{version}_{_type}_conf{conf_str}'\n",
    "os.makedirs(save_path, exist_ok=True)\n",
    "\n",
    "preds = os.listdir(path)\n",
    "for dir in preds:\n",
    "    for img in os.listdir(os.path.join(path, dir)):\n",
    "        shutil.move(os.path.join(path, dir, img), save_path)\n",
    "        \n",
    "shutil.rmtree(path)"
   ]
  }
 ],
 "metadata": {
  "kernelspec": {
   "display_name": ".venv",
   "language": "python",
   "name": "python3"
  },
  "language_info": {
   "codemirror_mode": {
    "name": "ipython",
    "version": 3
   },
   "file_extension": ".py",
   "mimetype": "text/x-python",
   "name": "python",
   "nbconvert_exporter": "python",
   "pygments_lexer": "ipython3",
   "version": "3.12.3"
  }
 },
 "nbformat": 4,
 "nbformat_minor": 2
}
