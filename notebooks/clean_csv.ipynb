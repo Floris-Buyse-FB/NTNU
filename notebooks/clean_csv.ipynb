{
 "cells": [
  {
   "cell_type": "code",
   "execution_count": 1,
   "metadata": {},
   "outputs": [],
   "source": [
    "# TO RESET THE CLEAN_DATA.CSV FILE #\n",
    "\n",
    "import pandas as pd\n",
    "\n",
    "data = pd.read_csv('../data/herbarium_data.csv', sep='\\t')\n",
    "data = data[['gbifID', 'mediaType', 'year']]\n",
    "data = data.dropna(subset=['mediaType'])\n",
    "data.drop(['mediaType'], axis=1, inplace=True)\n",
    "data.to_csv('../data/clean_data.csv', index=False)"
   ]
  },
  {
   "cell_type": "code",
   "execution_count": null,
   "metadata": {},
   "outputs": [],
   "source": [
    "import pandas as pd\n",
    "import os\n",
    "\n",
    "data = pd.read_csv('../data/clean_data.csv')\n",
    "print(len(data))\n",
    "\n",
    "lijst = os.listdir('../images/cropped_scales/fixed')\n",
    "lijst = [int(x.split('.')[0]) for x in lijst if not x.endswith('grid.jpg') and not x.endswith('only.jpg')]\n",
    "\n",
    "for id in lijst:\n",
    "    if id in data['gbifID']:\n",
    "        print(id)"
   ]
  }
 ],
 "metadata": {
  "kernelspec": {
   "display_name": ".venv",
   "language": "python",
   "name": "python3"
  },
  "language_info": {
   "codemirror_mode": {
    "name": "ipython",
    "version": 3
   },
   "file_extension": ".py",
   "mimetype": "text/x-python",
   "name": "python",
   "nbconvert_exporter": "python",
   "pygments_lexer": "ipython3",
   "version": "3.11.3"
  }
 },
 "nbformat": 4,
 "nbformat_minor": 2
}
