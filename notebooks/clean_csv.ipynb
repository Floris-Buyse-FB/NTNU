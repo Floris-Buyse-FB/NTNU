{
 "cells": [
  {
   "cell_type": "code",
   "execution_count": 1,
   "metadata": {},
   "outputs": [
    {
     "name": "stdout",
     "output_type": "stream",
     "text": [
      "Length of old data: 234142\n",
      "Length of new data: 234182\n"
     ]
    }
   ],
   "source": [
    "# TO RESET THE CLEAN_DATA.CSV FILE #\n",
    "\n",
    "import pandas as pd\n",
    "\n",
    "try:\n",
    "    old_data = pd.read_csv('../data/clean_data.csv')\n",
    "except FileNotFoundError:\n",
    "    print('File not found')\n",
    "    exit()\n",
    "\n",
    "print(f'Length of old data: {len(old_data)}')\n",
    "\n",
    "data = pd.read_csv('../data/herbarium_original_data.csv', sep='\\t')\n",
    "data = data[['gbifID', 'mediaType', 'year']]\n",
    "data = data.dropna(subset=['mediaType'])\n",
    "data.drop(['mediaType'], axis=1, inplace=True)\n",
    "data.to_csv('../data/clean_data.csv', index=False)\n",
    "\n",
    "print(f'Length of new data: {len(data)}')"
   ]
  }
 ],
 "metadata": {
  "kernelspec": {
   "display_name": ".venv",
   "language": "python",
   "name": "python3"
  },
  "language_info": {
   "codemirror_mode": {
    "name": "ipython",
    "version": 3
   },
   "file_extension": ".py",
   "mimetype": "text/x-python",
   "name": "python",
   "nbconvert_exporter": "python",
   "pygments_lexer": "ipython3",
   "version": "3.12.3"
  }
 },
 "nbformat": 4,
 "nbformat_minor": 2
}
