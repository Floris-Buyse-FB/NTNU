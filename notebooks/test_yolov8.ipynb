{
  "cells": [
    {
      "cell_type": "code",
      "execution_count": 11,
      "metadata": {},
      "outputs": [
        {
          "name": "stdout",
          "output_type": "stream",
          "text": [
            "\n",
            "0: 640x640 1 scale_random, 6.1ms\n",
            "1: 640x640 1 scale_random, 6.1ms\n",
            "2: 640x640 1 scale_random, 6.1ms\n",
            "3: 640x640 1 scale_random, 6.1ms\n",
            "4: 640x640 1 scale_random, 6.1ms\n",
            "5: 640x640 1 scale_random, 6.1ms\n",
            "6: 640x640 1 scale_random, 6.1ms\n",
            "7: 640x640 1 scale_random, 6.1ms\n",
            "8: 640x640 1 scale_random, 6.1ms\n",
            "9: 640x640 1 scale_random, 6.1ms\n",
            "10: 640x640 1 scale_random, 6.1ms\n",
            "11: 640x640 1 scale_random, 6.1ms\n",
            "12: 640x640 1 scale_random, 6.1ms\n",
            "13: 640x640 1 scale_random, 6.1ms\n",
            "14: 640x640 2 scale_randoms, 6.1ms\n",
            "15: 640x640 1 scale_random, 6.1ms\n",
            "16: 640x640 1 scale_random, 6.1ms\n",
            "17: 640x640 1 scale_random, 6.1ms\n",
            "18: 640x640 1 scale_random, 6.1ms\n",
            "19: 640x640 1 scale_random, 6.1ms\n",
            "20: 640x640 1 scale_random, 6.1ms\n",
            "21: 640x640 1 scale_random, 6.1ms\n",
            "22: 640x640 1 scale_random, 6.1ms\n",
            "23: 640x640 1 scale_random, 6.1ms\n",
            "24: 640x640 1 scale_random, 6.1ms\n",
            "25: 640x640 1 scale_random, 6.1ms\n",
            "26: 640x640 1 scale_random, 6.1ms\n",
            "27: 640x640 1 scale_fixed, 1 scale_random, 6.1ms\n",
            "28: 640x640 1 scale_random, 6.1ms\n",
            "29: 640x640 1 scale_random, 6.1ms\n",
            "30: 640x640 1 scale_random, 6.1ms\n",
            "31: 640x640 1 scale_random, 6.1ms\n",
            "32: 640x640 1 scale_random, 6.1ms\n",
            "33: 640x640 1 scale_random, 6.1ms\n",
            "34: 640x640 1 scale_random, 6.1ms\n",
            "35: 640x640 1 scale_random, 6.1ms\n",
            "36: 640x640 1 scale_random, 6.1ms\n",
            "37: 640x640 1 scale_random, 6.1ms\n",
            "38: 640x640 1 scale_random, 6.1ms\n",
            "39: 640x640 1 scale_random, 6.1ms\n",
            "40: 640x640 1 scale_random, 6.1ms\n",
            "41: 640x640 1 scale_random, 6.1ms\n",
            "42: 640x640 1 scale_random, 6.1ms\n",
            "43: 640x640 1 scale_random, 6.1ms\n",
            "44: 640x640 1 scale_random, 6.1ms\n",
            "45: 640x640 1 scale_random, 6.1ms\n",
            "Speed: 1.3ms preprocess, 6.1ms inference, 0.2ms postprocess per image at shape (1, 3, 640, 640)\n",
            "Results saved to \u001b[1m/home/floris/Projects/NTNU/models/runs/detect/predict5\u001b[0m\n"
          ]
        }
      ],
      "source": [
        "import os\n",
        "from ultralytics import YOLO\n",
        "\n",
        "path = '../images/cropped_scales/random'\n",
        "images = [os.path.join(path, img) for img in os.listdir(path) if not img.endswith('only.jpg')]\n",
        "\n",
        "model = YOLO('../models/classify_scale_medium_v2.pt')\n",
        "\n",
        "results = model(images, save=True, save_crop=True, conf=0.5, retina_masks=True)"
      ]
    }
  ],
  "metadata": {
    "accelerator": "GPU",
    "colab": {
      "gpuType": "T4",
      "provenance": []
    },
    "kernelspec": {
      "display_name": "Python 3",
      "name": "python3"
    },
    "language_info": {
      "codemirror_mode": {
        "name": "ipython",
        "version": 3
      },
      "file_extension": ".py",
      "mimetype": "text/x-python",
      "name": "python",
      "nbconvert_exporter": "python",
      "pygments_lexer": "ipython3",
      "version": "3.10.12"
    }
  },
  "nbformat": 4,
  "nbformat_minor": 0
}
