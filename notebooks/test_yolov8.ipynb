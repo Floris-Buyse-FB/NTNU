{
  "cells": [
    {
      "cell_type": "code",
      "execution_count": 13,
      "metadata": {},
      "outputs": [
        {
          "name": "stdout",
          "output_type": "stream",
          "text": [
            "\n",
            "0: 640x640 6 tapes, 46.4ms\n",
            "1: 640x640 9 tapes, 46.4ms\n",
            "2: 640x640 7 tapes, 46.4ms\n",
            "3: 640x640 6 tapes, 46.4ms\n",
            "Speed: 3.1ms preprocess, 46.4ms inference, 3.4ms postprocess per image at shape (1, 3, 640, 640)\n",
            "Results saved to \u001b[1mC:\\Users\\buyse\\Workspace\\NTNU\\models\\runs\\segment\\predict5\u001b[0m\n"
          ]
        }
      ],
      "source": [
        "from ultralytics import YOLO, settings\n",
        "import os\n",
        "import shutil\n",
        "import random\n",
        "\n",
        "IMG_PATH_FIXED = rf'C:\\Users\\buyse\\Workspace\\NTNU\\images\\cropped_scales\\fixed'\n",
        "IMG_PATH_RANDOM = rf'C:\\Users\\buyse\\Workspace\\NTNU\\images\\cropped_scales\\random'\n",
        "MODEL_PATH = rf\"C:\\Users\\buyse\\Workspace\\NTNU\\models\\label_detector_v3.pt\"\n",
        "\n",
        "settings.update({'runs_dir': rf'C:\\Users\\buyse\\Workspace\\NTNU\\models\\runs'})\n",
        "\n",
        "all_images_fixed = os.listdir(IMG_PATH_FIXED)\n",
        "all_images_random = os.listdir(IMG_PATH_RANDOM)\n",
        "\n",
        "random.shuffle(all_images_fixed)\n",
        "random.shuffle(all_images_random)\n",
        "\n",
        "test_images = [os.path.join(IMG_PATH_FIXED, img) for img in all_images_fixed[:10] if 'only' not in img and 'grid' not in img]\n",
        "test_images2 = [os.path.join(IMG_PATH_RANDOM, img) for img in all_images_random[:10] if 'only' not in img and 'grid' not in img]\n",
        "\n",
        "combined = test_images + test_images2\n",
        "\n",
        "model = YOLO(MODEL_PATH)\n",
        "results = model(combined, save=True, show_labels=False)"
      ]
    }
  ],
  "metadata": {
    "accelerator": "GPU",
    "colab": {
      "gpuType": "T4",
      "provenance": []
    },
    "kernelspec": {
      "display_name": "Python 3",
      "name": "python3"
    },
    "language_info": {
      "codemirror_mode": {
        "name": "ipython",
        "version": 3
      },
      "file_extension": ".py",
      "mimetype": "text/x-python",
      "name": "python",
      "nbconvert_exporter": "python",
      "pygments_lexer": "ipython3",
      "version": "3.11.3"
    }
  },
  "nbformat": 4,
  "nbformat_minor": 0
}
