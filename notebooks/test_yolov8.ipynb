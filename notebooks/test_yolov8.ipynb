{
  "cells": [
    {
      "cell_type": "code",
      "execution_count": 1,
      "metadata": {
        "colab": {
          "base_uri": "https://localhost:8080/"
        },
        "id": "fRol46IX9vn4",
        "outputId": "2bd8ecec-168c-43b5-8bdc-1ea8898685fa"
      },
      "outputs": [],
      "source": [
        "from ultralytics import YOLO, settings\n",
        "import os\n",
        "import shutil\n",
        "import random\n",
        "from IPython.display import display, Image\n",
        "from IPython import display\n",
        "display.clear_output()"
      ]
    },
    {
      "cell_type": "code",
      "execution_count": 5,
      "metadata": {},
      "outputs": [],
      "source": [
        "IMG_PATH_FIXED = '../images/classification/fixed'\n",
        "IMG_PATH_RANDOM = '../images/classification/random'\n",
        "MODEL_PATH_OBB = '../models/BEST_m_obb.pt'\n",
        "MODEL_PATH_NO_OBB = '../models/BEST_no_obb.pt'\n",
        "MODEL_PATH_PLANT = '../models/plant_detection.pt'\n",
        "settings.update({'runs_dir': rf'C:\\Users\\buyse\\Workspace\\NTNU\\models\\runs'})\n",
        "\n",
        "model_obb = YOLO(MODEL_PATH_OBB)\n",
        "model_no_obb = YOLO(MODEL_PATH_NO_OBB)\n",
        "model_plant = YOLO(MODEL_PATH_PLANT)"
      ]
    },
    {
      "cell_type": "code",
      "execution_count": 4,
      "metadata": {},
      "outputs": [],
      "source": [
        "all_images_fixed = os.listdir(IMG_PATH_FIXED)\n",
        "all_images_random = os.listdir(IMG_PATH_RANDOM)\n",
        "\n",
        "random.shuffle(all_images_fixed)\n",
        "random.shuffle(all_images_random)\n",
        "\n",
        "test_images = [os.path.join(IMG_PATH_FIXED, img) for img in all_images_fixed[:10]]\n",
        "test_images2 = [os.path.join(IMG_PATH_RANDOM, img) for img in all_images_random[:50]]\n",
        "\n",
        "combined = test_images + test_images2"
      ]
    },
    {
      "cell_type": "code",
      "execution_count": null,
      "metadata": {},
      "outputs": [],
      "source": [
        "results = model_no_obb(combined, save=True, save_txt=True, save_conf=True, save_crop=True, conf=0.8) # conf -> only show detections with confidence greater than this value"
      ]
    },
    {
      "cell_type": "code",
      "execution_count": 7,
      "metadata": {},
      "outputs": [
        {
          "name": "stdout",
          "output_type": "stream",
          "text": [
            "\n",
            "0: 640x640 1 plant, 30.3ms\n",
            "1: 640x640 (no detections), 30.3ms\n",
            "2: 640x640 1 plant, 30.3ms\n",
            "3: 640x640 3 plants, 30.3ms\n",
            "4: 640x640 2 plants, 30.3ms\n",
            "5: 640x640 1 plant, 30.3ms\n",
            "6: 640x640 1 plant, 30.3ms\n",
            "7: 640x640 1 plant, 30.3ms\n",
            "8: 640x640 1 plant, 30.3ms\n",
            "9: 640x640 (no detections), 30.3ms\n",
            "10: 640x640 1 plant, 30.3ms\n",
            "11: 640x640 1 plant, 30.3ms\n",
            "12: 640x640 1 plant, 30.3ms\n",
            "13: 640x640 (no detections), 30.3ms\n",
            "14: 640x640 (no detections), 30.3ms\n",
            "15: 640x640 1 plant, 30.3ms\n",
            "16: 640x640 (no detections), 30.3ms\n",
            "17: 640x640 4 plants, 30.3ms\n",
            "18: 640x640 1 plant, 30.3ms\n",
            "19: 640x640 (no detections), 30.3ms\n",
            "20: 640x640 (no detections), 30.3ms\n",
            "Speed: 4.1ms preprocess, 30.3ms inference, 0.5ms postprocess per image at shape (1, 3, 640, 640)\n",
            "Results saved to \u001b[1mC:\\Users\\buyse\\Workspace\\NTNU\\models\\runs\\detect\\predict2\u001b[0m\n"
          ]
        }
      ],
      "source": [
        "results = model_plant(combined, save=True, save_crop=True, conf=0.8)"
      ]
    }
  ],
  "metadata": {
    "accelerator": "GPU",
    "colab": {
      "gpuType": "T4",
      "provenance": []
    },
    "kernelspec": {
      "display_name": "Python 3",
      "name": "python3"
    },
    "language_info": {
      "codemirror_mode": {
        "name": "ipython",
        "version": 3
      },
      "file_extension": ".py",
      "mimetype": "text/x-python",
      "name": "python",
      "nbconvert_exporter": "python",
      "pygments_lexer": "ipython3",
      "version": "3.11.3"
    }
  },
  "nbformat": 4,
  "nbformat_minor": 0
}
