{
 "cells": [
  {
   "cell_type": "code",
   "execution_count": 1,
   "metadata": {},
   "outputs": [],
   "source": [
    "# import sys\n",
    "# import requests\n",
    "\n",
    "# !{sys.executable} -m pip install git+https://github.com/facebookresearch/segment-anything.git\n",
    "    \n",
    "# url = \"https://dl.fbaipublicfiles.com/segment_anything/sam_vit_h_4b8939.pth\"\n",
    "# r = requests.get(url)\n",
    "\n",
    "# with open(\"sam_vit_h_4b8939.pth\", \"wb\") as f:\n",
    "#     f.write(r.content)"
   ]
  },
  {
   "cell_type": "code",
   "execution_count": 1,
   "metadata": {},
   "outputs": [
    {
     "name": "stdout",
     "output_type": "stream",
     "text": [
      "CUDA is available: True\n"
     ]
    }
   ],
   "source": [
    "import torch\n",
    "import torchvision\n",
    "import numpy as np\n",
    "import matplotlib.pyplot as plt\n",
    "import cv2\n",
    "import os\n",
    "from ultralytics import YOLO, settings\n",
    "import shutil\n",
    "\n",
    "print(\"CUDA is available:\", torch.cuda.is_available())"
   ]
  },
  {
   "cell_type": "code",
   "execution_count": 2,
   "metadata": {},
   "outputs": [],
   "source": [
    "def show_mask(mask, ax, random_color=False):\n",
    "    if random_color:\n",
    "        color = np.concatenate([np.random.random(3), np.array([0.6])], axis=0)\n",
    "    else:\n",
    "        color = np.array([30/255, 144/255, 255/255, 0.6])\n",
    "    h, w = mask.shape[-2:]\n",
    "    mask_image = mask.reshape(h, w, 1) * color.reshape(1, 1, -1)\n",
    "    ax.imshow(mask_image)\n",
    "    \n",
    "def show_points(coords, labels, ax, marker_size=375):\n",
    "    pos_points = coords[labels==1]\n",
    "    neg_points = coords[labels==0]\n",
    "    ax.scatter(pos_points[:, 0], pos_points[:, 1], color='green', marker='*', s=marker_size, edgecolor='white', linewidth=1.25)\n",
    "    ax.scatter(neg_points[:, 0], neg_points[:, 1], color='red', marker='*', s=marker_size, edgecolor='white', linewidth=1.25)   \n",
    "    \n",
    "def show_box(box, ax):\n",
    "    x0, y0 = box[0], box[1]\n",
    "    w, h = box[2] - box[0], box[3] - box[1]\n",
    "    ax.add_patch(plt.Rectangle((x0, y0), w, h, edgecolor='green', facecolor=(0,0,0,0), lw=2))\n",
    "\n",
    "def show_image(image, ax='Off', figsize=(10, 10)):\n",
    "    plt.figure(figsize=figsize)\n",
    "    plt.imshow(image)\n",
    "    plt.axis(ax)\n",
    "    plt.show()\n",
    "\n",
    "def show_image_with_boxes_and_masks(image_rgb, boxes, masks):\n",
    "    plt.figure(figsize=(10, 10))\n",
    "    plt.imshow(image_rgb)\n",
    "    for mask in masks:\n",
    "        show_mask(mask.cpu().numpy(), plt.gca(), random_color=True)\n",
    "    for box in boxes:\n",
    "        show_box(box.cpu().numpy(), plt.gca())\n",
    "    plt.axis('off')\n",
    "    plt.show()"
   ]
  },
  {
   "cell_type": "code",
   "execution_count": 3,
   "metadata": {},
   "outputs": [],
   "source": [
    "MODEL_PATH_PLANT = '../models/plant_detection.pt'\n",
    "settings.update({'runs_dir': rf'C:\\Users\\buyse\\Workspace\\NTNU\\models\\runs'})\n",
    "model_plant = YOLO(MODEL_PATH_PLANT)"
   ]
  },
  {
   "cell_type": "code",
   "execution_count": 22,
   "metadata": {},
   "outputs": [],
   "source": [
    "import sys\n",
    "sys.path.append(\"..\")\n",
    "from segment_anything import sam_model_registry, SamPredictor, SamAutomaticMaskGenerator\n",
    "\n",
    "sam_checkpoint = \"../models/sam_vit_h_4b8939.pth\"\n",
    "model_type = \"vit_h\"\n",
    "\n",
    "device = \"cuda\"\n",
    "\n",
    "sam = sam_model_registry[model_type](checkpoint=sam_checkpoint)\n",
    "sam.to(device=device)\n",
    "\n",
    "predictor = SamPredictor(sam)\n",
    "mask_generator = SamAutomaticMaskGenerator(sam)"
   ]
  },
  {
   "cell_type": "code",
   "execution_count": 5,
   "metadata": {},
   "outputs": [],
   "source": [
    "IMG_PATH_FIXED = '../images/classification/fixed'\n",
    "IMG_PATH_RANDOM = '../images/classification/random'\n",
    "\n",
    "if not os.path.exists(IMG_PATH_FIXED):\n",
    "    print(\"Error, no fixed images found\")\n",
    "    exit(1)\n",
    "\n",
    "if not os.path.exists(IMG_PATH_RANDOM):\n",
    "    print(\"Error, no random images found\")\n",
    "    exit(1)\n",
    "\n",
    "images = [os.path.join(IMG_PATH_FIXED, f) for f in os.listdir(IMG_PATH_FIXED) if f.endswith('.jpg')]\n",
    "images += [os.path.join(IMG_PATH_RANDOM, f) for f in os.listdir(IMG_PATH_RANDOM) if f.endswith('.jpg')]"
   ]
  },
  {
   "cell_type": "code",
   "execution_count": 7,
   "metadata": {},
   "outputs": [],
   "source": [
    "shutil.rmtree(settings['runs_dir'], ignore_errors=True)\n",
    "results = model_plant(images, verbose=False)"
   ]
  },
  {
   "cell_type": "markdown",
   "metadata": {},
   "source": [
    "### Single box output"
   ]
  },
  {
   "cell_type": "code",
   "execution_count": 8,
   "metadata": {},
   "outputs": [],
   "source": [
    "output = []\n",
    "\n",
    "for result in results:\n",
    "    image_path = result.path\n",
    "    image = cv2.imread(image_path)\n",
    "    image = cv2.cvtColor(image, cv2.COLOR_BGR2RGB)\n",
    "    box = np.array(result.boxes.xyxy[0].tolist())\n",
    "\n",
    "    predictor.set_image(image)\n",
    "\n",
    "    masks, _, _ = predictor.predict(\n",
    "    point_coords=None,\n",
    "    point_labels=None,\n",
    "    box=box,\n",
    "    multimask_output=False,\n",
    "    )\n",
    "\n",
    "    output.append({'image_path': image_path, 'image': image, 'boxes': box, 'masks': masks})"
   ]
  },
  {
   "cell_type": "code",
   "execution_count": null,
   "metadata": {},
   "outputs": [],
   "source": [
    "for i, o in enumerate(output):\n",
    "    plt.figure(figsize=(10, 10))\n",
    "    plt.imshow(o['image'])\n",
    "    show_mask(o['masks'][0], plt.gca())\n",
    "    show_box(o['boxes'], plt.gca())\n",
    "    plt.axis('off')\n",
    "    plt.show()"
   ]
  },
  {
   "cell_type": "markdown",
   "metadata": {},
   "source": [
    "### Multi box output (not to good...)"
   ]
  },
  {
   "cell_type": "code",
   "execution_count": 9,
   "metadata": {},
   "outputs": [],
   "source": [
    "output = []\n",
    "\n",
    "for result in results:\n",
    "    image_path = result.path\n",
    "    image = cv2.imread(image_path)\n",
    "    image = cv2.cvtColor(image, cv2.COLOR_BGR2RGB)\n",
    "    boxes = result.boxes.xyxy\n",
    "\n",
    "    predictor.set_image(image)\n",
    "\n",
    "    masks, _, _ = predictor.predict_torch(\n",
    "    point_coords=None,\n",
    "    point_labels=None,\n",
    "    boxes=boxes,\n",
    "    multimask_output=False,\n",
    "    )\n",
    "\n",
    "    output.append({'image_path': image_path, 'image': image, 'boxes': boxes, 'masks': masks})"
   ]
  },
  {
   "cell_type": "code",
   "execution_count": null,
   "metadata": {},
   "outputs": [],
   "source": [
    "for i, res in enumerate(output):\n",
    "    show_image_with_boxes_and_masks(res['image'], res['boxes'], res['masks'])\n",
    "    print(res['image_path'])"
   ]
  },
  {
   "cell_type": "markdown",
   "metadata": {},
   "source": [
    "### Crop out multiple bounding boxes first, then predict with SAM"
   ]
  },
  {
   "cell_type": "code",
   "execution_count": 25,
   "metadata": {},
   "outputs": [
    {
     "name": "stdout",
     "output_type": "stream",
     "text": [
      "Results saved to \u001b[1mC:\\Users\\buyse\\Workspace\\NTNU\\models\\runs\\detect\\predict\u001b[0m\n",
      "1 label saved to C:\\Users\\buyse\\Workspace\\NTNU\\models\\runs\\detect\\predict\\labels\n"
     ]
    }
   ],
   "source": [
    "image = cv2.imread('../images/classification/fixed/1701249276.jpg')\n",
    "\n",
    "shutil.rmtree(settings['runs_dir'], ignore_errors=True)\n",
    "results = model_plant(image, verbose=False, save_crop=True)\n",
    "\n",
    "PATH = settings['runs_dir'] + '/detect/predict/crops/plant'\n",
    "crops = [os.path.join(PATH, f) for f in os.listdir(PATH) if f.endswith('.jpg')]"
   ]
  },
  {
   "cell_type": "code",
   "execution_count": null,
   "metadata": {},
   "outputs": [],
   "source": [
    "for img in crops:\n",
    "\n",
    "    img = cv2.imread(img)\n",
    "    img = cv2.cvtColor(img, cv2.COLOR_BGR2RGB)\n",
    "\n",
    "    middle_point = np.array([[img.shape[1] // 2, img.shape[0] // 2]])\n",
    "\n",
    "    predictor.set_image(img)\n",
    "    masks, _, _ = predictor.predict(\n",
    "    point_coords=middle_point,\n",
    "    point_labels=np.array([1]),\n",
    "    multimask_output=False,\n",
    "    )\n",
    "\n",
    "    plt.figure(figsize=(10, 10))\n",
    "    plt.imshow(img)\n",
    "    show_mask(masks, plt.gca())\n",
    "    plt.axis('off')\n",
    "    plt.show() "
   ]
  }
 ],
 "metadata": {
  "kernelspec": {
   "display_name": ".venv",
   "language": "python",
   "name": "python3"
  },
  "language_info": {
   "codemirror_mode": {
    "name": "ipython",
    "version": 3
   },
   "file_extension": ".py",
   "mimetype": "text/x-python",
   "name": "python",
   "nbconvert_exporter": "python",
   "pygments_lexer": "ipython3",
   "version": "3.11.3"
  }
 },
 "nbformat": 4,
 "nbformat_minor": 2
}
