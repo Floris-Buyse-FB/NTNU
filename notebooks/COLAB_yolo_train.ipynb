{
  "nbformat": 4,
  "nbformat_minor": 0,
  "metadata": {
    "colab": {
      "provenance": [],
      "gpuType": "T4"
    },
    "kernelspec": {
      "name": "python3",
      "display_name": "Python 3"
    },
    "language_info": {
      "name": "python"
    },
    "accelerator": "GPU"
  },
  "cells": [
    {
      "cell_type": "code",
      "execution_count": null,
      "metadata": {
        "id": "_O35HrOV9nWI"
      },
      "outputs": [],
      "source": [
        "!pip install ultralytics --quiet\n",
        "!pip install roboflow --quiet"
      ]
    },
    {
      "cell_type": "code",
      "source": [
        "from torchvision.transforms.functional import adjust_hue\n",
        "from ultralytics import YOLO, settings\n",
        "from torchvision import transforms\n",
        "from roboflow import Roboflow\n",
        "from PIL import Image\n",
        "import shutil\n",
        "import torch\n",
        "import os\n",
        "import re"
      ],
      "metadata": {
        "id": "GkG07gbmM6ga"
      },
      "execution_count": 2,
      "outputs": []
    },
    {
      "cell_type": "code",
      "source": [
        "def hue_degree_to_hue_value():\n",
        "    return (torch.rand(1).item() * 60 - 30) / 360.0  # Random hue between -30 and +30 degrees\n",
        "\n",
        "def augment_image(pil_img, name):\n",
        "    images = [pil_img.copy()]  # Start with the original image\n",
        "\n",
        "    # Apply a noticeable hue shift\n",
        "    hue_adjustment = hue_degree_to_hue_value()\n",
        "    images.append(adjust_hue(pil_img.copy(), hue_adjustment))\n",
        "\n",
        "    # Apply a more pronounced saturation change\n",
        "    images.append(transforms.ColorJitter(saturation=0.4)(pil_img.copy()))\n",
        "\n",
        "    # Apply a more noticeable brightness change\n",
        "    images.append(transforms.ColorJitter(brightness=0.3)(pil_img.copy()))\n",
        "\n",
        "    # Apply a stronger contrast change\n",
        "    images.append(transforms.ColorJitter(contrast=0.4)(pil_img.copy()))\n",
        "\n",
        "    names = [name] + [name.replace('.jpg', '_hue.jpg'), name.replace('.jpg', '_sat.jpg'), name.replace('.jpg', '_bright.jpg'), name.replace('.jpg', '_cont.jpg')]\n",
        "    return images, names\n",
        "\n",
        "def augment_images(image_paths):\n",
        "    augmented_batch = []\n",
        "    for img_path in image_paths:\n",
        "        pil_img = Image.open(img_path)  # Open the image file\n",
        "        augmented_batch.append((augment_image(pil_img, os.path.basename(img_path))))  # Apply augmentation and extend the batch list\n",
        "    return augmented_batch\n",
        "\n",
        "def get_training_number():\n",
        "  try:\n",
        "    runs_dir = os.listdir(f'./runs/{task}')\n",
        "    max = 0\n",
        "    last_train = ''\n",
        "\n",
        "    for dir in runs_dir:\n",
        "      if 'train' in dir:\n",
        "        numbers = re.findall(r'\\d+', dir)\n",
        "        if len(numbers) > 0:\n",
        "          if int(numbers[0]) > max:\n",
        "            max = int(numbers[0])\n",
        "\n",
        "    if max == 0:\n",
        "      last_train = ''\n",
        "    else:\n",
        "      last_train = max\n",
        "\n",
        "    print(last_train)\n",
        "    return last_train\n",
        "\n",
        "  except:\n",
        "    print(\"Error, check if the directory exists!\")\n",
        "\n",
        "# download dataset\n",
        "from roboflow import Roboflow\n",
        "rf = Roboflow(api_key=\"x5pZ44ydkd9As40Mglzv\")\n",
        "project = rf.workspace(\"ntnuscaledetection\").project(\"ntnu_herbarium_segmentation_v2\")\n",
        "version = project.version(8)\n",
        "dataset = version.download(\"yolov8\")\n",
        "\n",
        "###########################\n",
        "## FOR DATA-AUGMENTATION ##\n",
        "###########################\n",
        "\n",
        "# # get paths\n",
        "# path = os.path.join(dataset.location, 'train', 'images')\n",
        "# label_path = os.path.join(dataset.location, 'train', 'labels')\n",
        "\n",
        "# image_paths = [os.path.join(path, i) for i in os.listdir(path) if i.endswith(('.png', '.jpg', '.jpeg'))]\n",
        "\n",
        "# # augment images\n",
        "# augmented_images = augment_images(image_paths)\n",
        "\n",
        "# # save images and labels\n",
        "# for idx, item in enumerate(augmented_images):\n",
        "#     original_name = item[1][0].replace('.jpg', '.txt')\n",
        "#     original_label = os.path.join(label_path, original_name)\n",
        "#     # copy original label with new names (hue, sat, bright, cont)\n",
        "#     for name in item[1][1:]:\n",
        "#         new_label = os.path.join(label_path, name.replace('.jpg', '.txt'))\n",
        "#         shutil.copy(original_label, new_label)\n",
        "\n",
        "#     # save images\n",
        "#     for name, image in zip(item[1], item[0]):\n",
        "#         image.save(os.path.join(path, name))"
      ],
      "metadata": {
        "id": "VCO6lIsMF0ad"
      },
      "execution_count": null,
      "outputs": []
    },
    {
      "cell_type": "code",
      "source": [
        "import shutil\n",
        "import yaml\n",
        "\n",
        "if not os.path.exists('./datasets'):\n",
        "  os.makedirs('./datasets')\n",
        "\n",
        "try:\n",
        "  shutil.move(f'{dataset.location}', './datasets')\n",
        "except Exception as e:\n",
        "  print(e)\n",
        "\n",
        "pj_name = project.name.replace(' ', '-')\n",
        "print(pj_name)\n",
        "data_yaml_path = f'/content/datasets/{pj_name}-{version.version}/data.yaml'\n",
        "\n",
        "with open(data_yaml_path, 'r') as file:\n",
        "    data_yaml = yaml.safe_load(file)\n",
        "\n",
        "data_yaml['path'] = f'{pj_name}-{version.version}'\n",
        "data_yaml['train'] = f'train/images'\n",
        "data_yaml['val'] = f'valid/images'\n",
        "data_yaml['test'] = f'test/images'\n",
        "\n",
        "with open(data_yaml_path, 'w') as file:\n",
        "    yaml.dump(data_yaml, file, default_flow_style=False)\n",
        "\n",
        "task = 'segment'"
      ],
      "metadata": {
        "id": "hXxh5MOuulfI"
      },
      "execution_count": null,
      "outputs": []
    },
    {
      "cell_type": "code",
      "source": [
        "!yolo ${task} train data=/content/datasets/{pj_name}-{version.version}/data.yaml model=yolov8m-seg epochs=100 imgsz=640 show_labels=False translate=0.0 scale=0.0 erasing=0.0 mosaic=0.0 cos_lr=True"
      ],
      "metadata": {
        "id": "7PvcZxJLGA4I"
      },
      "execution_count": null,
      "outputs": []
    }
  ]
}